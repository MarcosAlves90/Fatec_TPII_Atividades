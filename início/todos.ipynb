{
 "cells": [
  {
   "cell_type": "code",
   "execution_count": null,
   "metadata": {
    "vscode": {
     "languageId": "plaintext"
    }
   },
   "outputs": [],
   "source": [
    "n1 = int(input('Digite o valor 1 : '))\n",
    "n2 = int(input('Digite o valor 2 : '))\n",
    "soma=(n1+n2)\n",
    "print('A soma dos valores e : ',soma)"
   ]
  },
  {
   "cell_type": "code",
   "execution_count": null,
   "metadata": {
    "vscode": {
     "languageId": "plaintext"
    }
   },
   "outputs": [],
   "source": [
    "num = int(input('Digite um numero : '))\n",
    "ant=(num-1)\n",
    "suc=(num+1)\n",
    "print('Antecessor: {}\\nSucessor: {}'.format(ant,suc))"
   ]
  },
  {
   "cell_type": "code",
   "execution_count": null,
   "metadata": {
    "vscode": {
     "languageId": "plaintext"
    }
   },
   "outputs": [],
   "source": [
    "lista = []\n",
    "for i in range(5):\n",
    "    num = int(input(f'Digite o {i} numero: '))\n",
    "    lista.append(num)\n",
    "print(f'Maior: {max(lista)}\\nMenor: {min(lista)}')"
   ]
  },
  {
   "cell_type": "code",
   "execution_count": null,
   "metadata": {
    "vscode": {
     "languageId": "plaintext"
    }
   },
   "outputs": [],
   "source": [
    "def calculo():\n",
    "    print('A media do aluno e: {}\\nA Situacao Final: {}'.format(media,situacao))\n",
    "while True:\n",
    "    n1=float(input('Digite a nota 1 :'))\n",
    "    n2=float(input('Digite a nota 2 :'))\n",
    "    n3=float(input('Digite a nota 3 :'))\n",
    "    media=round(((n1+n2+n3)/3),1)\n",
    "    if media < 4:\n",
    "        situacao='Reprovado'\n",
    "    elif 4 <= media < 6:\n",
    "        situacao='Recuperacao'\n",
    "    else:\n",
    "        situacao='Aprovado'\n",
    "    calculo()\n",
    "    confirma=input('Novo Calculo? [S/N] :')\n",
    "    if confirma == 'n' or confirma == 'N':\n",
    "        break"
   ]
  },
  {
   "cell_type": "markdown",
   "metadata": {},
   "source": [
    "### EXERCICIO 1"
   ]
  },
  {
   "cell_type": "code",
   "metadata": {
    "vscode": {
     "languageId": "plaintext"
    },
    "ExecuteTime": {
     "end_time": "2025-02-21T00:27:56.420276Z",
     "start_time": "2025-02-21T00:27:51.910889Z"
    }
   },
   "source": [
    "salarioMinimo = 1518\n",
    "salario = float(input(\"Digite a quantidade de salarios: \"))\n",
    "salarioBruto = salarioMinimo * salario\n",
    "inss = salarioBruto * 0.11 if salarioBruto >= 1850 else 0\n",
    "salarioLiquido = salarioBruto - inss\n",
    "\n",
    "print(f'\\nSalario Bruto: {salarioBruto:.2f}\\nINSS: {inss:.2f}\\nSalario Liquido: {salarioLiquido:.2f}')"
   ],
   "outputs": [
    {
     "name": "stdout",
     "output_type": "stream",
     "text": [
      "\n",
      "Salario Bruto: 3036.0\n",
      "INSS: 333.96\n",
      "Salario Liquido: 2702.04\n"
     ]
    }
   ],
   "execution_count": 2
  },
  {
   "metadata": {},
   "cell_type": "markdown",
   "source": "### EXERCICIO 2"
  },
  {
   "metadata": {
    "vscode": {
     "languageId": "plaintext"
    },
    "ExecuteTime": {
     "end_time": "2025-02-21T00:31:21.495046Z",
     "start_time": "2025-02-21T00:31:06.446381Z"
    }
   },
   "cell_type": "code",
   "source": [
    "while True:\n",
    "    try:\n",
    "        valorVeiculo = float(input(\"Valor do veículo: \"))\n",
    "        valorEntrada = float(input(\"Valor de entrada: \"))\n",
    "        if valorEntrada > valorVeiculo:\n",
    "            print(\"O valor de entrada não pode ser maior que o valor do veículo.\")\n",
    "            continue\n",
    "\n",
    "        planoPagamento = int(input(\"Plano de pagamento:\\n1 - 12 meses\\n2 - 24 meses\\n3 - 36 meses\\n4 - 48 meses\\n\")) - 1\n",
    "        if planoPagamento not in range(4):\n",
    "            print(\"Opção inválida. Escolha entre 1 e 4.\")\n",
    "            continue\n",
    "\n",
    "        mesesJuros = [[12, 12.8], [24, 24.5], [36, 32.4], [48, 41.7]]\n",
    "        anoVeiculo = int(input(\"Ano do veículo: \"))\n",
    "\n",
    "        valorFinanciado = valorVeiculo - valorEntrada\n",
    "        juros = mesesJuros[planoPagamento][1] / 100\n",
    "\n",
    "        valorTotalComJuros = valorFinanciado * (1 + juros)\n",
    "        valorParcela = valorTotalComJuros / mesesJuros[planoPagamento][0]\n",
    "\n",
    "        ipva = valorVeiculo * 0.04 if anoVeiculo > 1995 else 0\n",
    "\n",
    "        totalGlobal = valorTotalComJuros + ipva\n",
    "\n",
    "        print(\"\\nResumo da Operação:\")\n",
    "        print(f\"Valor Financiado: R$ {valorFinanciado:.2f}\")\n",
    "        print(f\"Plano de Pagamento Escolhido: {mesesJuros[planoPagamento][0]} meses - Juros de {mesesJuros[planoPagamento][1]}%\")\n",
    "        print(f\"Valor da Parcela com Juros: R$ {valorParcela:.2f}\")\n",
    "        print(f\"IPVA: R$ {ipva:.2f}\")\n",
    "        print(f\"Total Global da Operação: R$ {totalGlobal:.2f}\")\n",
    "        break\n",
    "    except ValueError:\n",
    "        print(\"Por favor, insira valores numéricos válidos.\")"
   ],
   "outputs": [
    {
     "name": "stdout",
     "output_type": "stream",
     "text": [
      "\n",
      "Valor Financiado: 1500.0\n",
      "Plano de Pagamento Escolhido: 24 meses - juros de 24.5%\n",
      "Valor da Parcela com Juros: 77.8125\n",
      "IPVA: 80.0\n",
      "Total Global da Operacao: 1947.5\n"
     ]
    }
   ],
   "execution_count": 3
  }
 ],
 "metadata": {
  "language_info": {
   "name": "python"
  },
  "kernelspec": {
   "name": "python3",
   "language": "python",
   "display_name": "Python 3 (ipykernel)"
  }
 },
 "nbformat": 4,
 "nbformat_minor": 2
}
