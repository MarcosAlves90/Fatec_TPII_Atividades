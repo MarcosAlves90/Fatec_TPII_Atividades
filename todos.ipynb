{
 "cells": [
  {
   "metadata": {},
   "cell_type": "markdown",
   "source": "# ATIVIDADE DE PYTHON 1"
  },
  {
   "metadata": {},
   "cell_type": "markdown",
   "source": "### EXEMPLOS"
  },
  {
   "metadata": {
    "vscode": {
     "languageId": "plaintext"
    }
   },
   "cell_type": "code",
   "outputs": [],
   "execution_count": null,
   "source": [
    "n1 = int(input('Digite o valor 1 : '))\n",
    "n2 = int(input('Digite o valor 2 : '))\n",
    "soma=(n1+n2)\n",
    "print('A soma dos valores e : ',soma)"
   ]
  },
  {
   "metadata": {
    "vscode": {
     "languageId": "plaintext"
    }
   },
   "cell_type": "code",
   "outputs": [],
   "execution_count": null,
   "source": [
    "num = int(input('Digite um numero : '))\n",
    "ant=(num-1)\n",
    "suc=(num+1)\n",
    "print('Antecessor: {}\\nSucessor: {}'.format(ant,suc))"
   ]
  },
  {
   "metadata": {
    "vscode": {
     "languageId": "plaintext"
    }
   },
   "cell_type": "code",
   "outputs": [],
   "execution_count": null,
   "source": [
    "lista = []\n",
    "for i in range(5):\n",
    "    num = int(input(f'Digite o {i} numero: '))\n",
    "    lista.append(num)\n",
    "print(f'Maior: {max(lista)}\\nMenor: {min(lista)}')"
   ]
  },
  {
   "metadata": {
    "vscode": {
     "languageId": "plaintext"
    }
   },
   "cell_type": "code",
   "outputs": [],
   "execution_count": null,
   "source": [
    "def calculo():\n",
    "    print('A media do aluno e: {}\\nA Situacao Final: {}'.format(media,situacao))\n",
    "while True:\n",
    "    n1=float(input('Digite a nota 1 :'))\n",
    "    n2=float(input('Digite a nota 2 :'))\n",
    "    n3=float(input('Digite a nota 3 :'))\n",
    "    media=round(((n1+n2+n3)/3),1)\n",
    "    if media < 4:\n",
    "        situacao='Reprovado'\n",
    "    elif 4 <= media < 6:\n",
    "        situacao='Recuperacao'\n",
    "    else:\n",
    "        situacao='Aprovado'\n",
    "    calculo()\n",
    "    confirma=input('Novo Calculo? [S/N] :')\n",
    "    if confirma == 'n' or confirma == 'N':\n",
    "        break"
   ]
  },
  {
   "metadata": {},
   "cell_type": "markdown",
   "source": "### EXERCICIO 1"
  },
  {
   "metadata": {
    "vscode": {
     "languageId": "plaintext"
    },
    "ExecuteTime": {
     "end_time": "2025-02-21T00:27:56.420276Z",
     "start_time": "2025-02-21T00:27:51.910889Z"
    }
   },
   "cell_type": "code",
   "outputs": [
    {
     "name": "stdout",
     "output_type": "stream",
     "text": [
      "\n",
      "Salario Bruto: 3036.0\n",
      "INSS: 333.96\n",
      "Salario Liquido: 2702.04\n"
     ]
    }
   ],
   "execution_count": 2,
   "source": [
    "salarioMinimo = 1518\n",
    "salario = float(input(\"Digite a quantidade de salarios: \"))\n",
    "salarioBruto = salarioMinimo * salario\n",
    "inss = salarioBruto * 0.11 if salarioBruto >= 1850 else 0\n",
    "salarioLiquido = salarioBruto - inss\n",
    "\n",
    "print(f'\\nSalario Bruto: {salarioBruto:.2f}\\nINSS: {inss:.2f}\\nSalario Liquido: {salarioLiquido:.2f}')"
   ]
  },
  {
   "metadata": {},
   "cell_type": "markdown",
   "source": "### EXERCICIO 2"
  },
  {
   "metadata": {
    "vscode": {
     "languageId": "plaintext"
    },
    "ExecuteTime": {
     "end_time": "2025-02-21T00:31:21.495046Z",
     "start_time": "2025-02-21T00:31:06.446381Z"
    }
   },
   "cell_type": "code",
   "outputs": [
    {
     "name": "stdout",
     "output_type": "stream",
     "text": [
      "\n",
      "Valor Financiado: 1500.0\n",
      "Plano de Pagamento Escolhido: 24 meses - juros de 24.5%\n",
      "Valor da Parcela com Juros: 77.8125\n",
      "IPVA: 80.0\n",
      "Total Global da Operacao: 1947.5\n"
     ]
    }
   ],
   "execution_count": 3,
   "source": [
    "while True:\n",
    "    try:\n",
    "        valorVeiculo = float(input(\"Valor do veículo: \"))\n",
    "        valorEntrada = float(input(\"Valor de entrada: \"))\n",
    "        if valorEntrada > valorVeiculo:\n",
    "            print(\"O valor de entrada não pode ser maior que o valor do veículo.\")\n",
    "            continue\n",
    "\n",
    "        planoPagamento = int(input(\"Plano de pagamento:\\n1 - 12 meses\\n2 - 24 meses\\n3 - 36 meses\\n4 - 48 meses\\n\")) - 1\n",
    "        if planoPagamento not in range(4):\n",
    "            print(\"Opção inválida. Escolha entre 1 e 4.\")\n",
    "            continue\n",
    "\n",
    "        mesesJuros = [[12, 12.8], [24, 24.5], [36, 32.4], [48, 41.7]]\n",
    "        anoVeiculo = int(input(\"Ano do veículo: \"))\n",
    "\n",
    "        valorFinanciado = valorVeiculo - valorEntrada\n",
    "        juros = mesesJuros[planoPagamento][1] / 100\n",
    "\n",
    "        valorTotalComJuros = valorFinanciado * (1 + juros)\n",
    "        valorParcela = valorTotalComJuros / mesesJuros[planoPagamento][0]\n",
    "\n",
    "        ipva = valorVeiculo * 0.04 if anoVeiculo > 1995 else 0\n",
    "\n",
    "        totalGlobal = valorTotalComJuros + ipva\n",
    "\n",
    "        print(\"\\nResumo da Operação:\")\n",
    "        print(f\"Valor Financiado: R$ {valorFinanciado:.2f}\")\n",
    "        print(f\"Plano de Pagamento Escolhido: {mesesJuros[planoPagamento][0]} meses - Juros de {mesesJuros[planoPagamento][1]}%\")\n",
    "        print(f\"Valor da Parcela com Juros: R$ {valorParcela:.2f}\")\n",
    "        print(f\"IPVA: R$ {ipva:.2f}\")\n",
    "        print(f\"Total Global da Operação: R$ {totalGlobal:.2f}\")\n",
    "        break\n",
    "    except ValueError:\n",
    "        print(\"Por favor, insira valores numéricos válidos.\")"
   ]
  },
  {
   "metadata": {},
   "cell_type": "markdown",
   "source": "### EXERCICIO 3"
  },
  {
   "metadata": {},
   "cell_type": "code",
   "outputs": [],
   "execution_count": null,
   "source": [
    "import random, os\n",
    "\n",
    "def operacao(numero1, numero2, operador):\n",
    "    if operador == '+':\n",
    "        return numero1 + numero2\n",
    "    elif operador == '-':\n",
    "        return numero1 - numero2\n",
    "    else:\n",
    "        return numero1 * numero2\n",
    "\n",
    "acertos = 0\n",
    "\n",
    "while True:\n",
    "    os.system('cls')\n",
    "    n1 = random.randint(1, 10)\n",
    "    op = random.choice([\"+\", \"-\", \"*\"])\n",
    "    n2 = random.randint(1, 10)\n",
    "    resultado = operacao(n1, n2, op)\n",
    "    print('Quantidade de Acertos:', acertos)\n",
    "    print('Cálculo:')\n",
    "    print(str(n1), op, str(n2))\n",
    "    resp = int(input('Resultado: '))\n",
    "    if resp == resultado:\n",
    "        print('Acertou!!!')\n",
    "        acertos += 1\n",
    "    else:\n",
    "        print('Errou.')\n",
    "    confirma = input('Novo Cálculo [S/N]: ')\n",
    "    if confirma.lower() == 'n':\n",
    "        break"
   ]
  },
  {
   "metadata": {},
   "cell_type": "markdown",
   "source": "### EXERCICIO 4"
  },
  {
   "metadata": {
    "ExecuteTime": {
     "end_time": "2025-03-11T01:32:29.973342Z",
     "start_time": "2025-03-11T01:32:04.551038Z"
    }
   },
   "cell_type": "code",
   "outputs": [
    {
     "name": "stdout",
     "output_type": "stream",
     "text": [
      "Adivinhe o número\n",
      "Tentativas: 5\n",
      "Adivinhe o número\n",
      "Tentativas: 4\n",
      "Adivinhe o número\n",
      "Tentativas: 3\n",
      "Adivinhe o número\n",
      "Tentativas: 2\n",
      "Você ganhou!!!\n",
      "O número era: 15\n"
     ]
    },
    {
     "ename": "KeyboardInterrupt",
     "evalue": "Interrupted by user",
     "output_type": "error",
     "traceback": [
      "\u001B[1;31m---------------------------------------------------------------------------\u001B[0m",
      "\u001B[1;31mKeyboardInterrupt\u001B[0m                         Traceback (most recent call last)",
      "Cell \u001B[1;32mIn[1], line 38\u001B[0m\n\u001B[0;32m     35\u001B[0m             \u001B[38;5;28mprint\u001B[39m(\u001B[38;5;124m'\u001B[39m\u001B[38;5;124mVocê ganhou!!!\u001B[39m\u001B[38;5;124m'\u001B[39m)\n\u001B[0;32m     36\u001B[0m             jogar, num, tentativa \u001B[38;5;241m=\u001B[39m jogar_novamente(num)\n\u001B[1;32m---> 38\u001B[0m \u001B[43mmain\u001B[49m\u001B[43m(\u001B[49m\u001B[43m)\u001B[49m\n",
      "Cell \u001B[1;32mIn[1], line 36\u001B[0m, in \u001B[0;36mmain\u001B[1;34m()\u001B[0m\n\u001B[0;32m     34\u001B[0m os\u001B[38;5;241m.\u001B[39msystem(\u001B[38;5;124m'\u001B[39m\u001B[38;5;124mcls\u001B[39m\u001B[38;5;124m'\u001B[39m)\n\u001B[0;32m     35\u001B[0m \u001B[38;5;28mprint\u001B[39m(\u001B[38;5;124m'\u001B[39m\u001B[38;5;124mVocê ganhou!!!\u001B[39m\u001B[38;5;124m'\u001B[39m)\n\u001B[1;32m---> 36\u001B[0m jogar, num, tentativa \u001B[38;5;241m=\u001B[39m \u001B[43mjogar_novamente\u001B[49m\u001B[43m(\u001B[49m\u001B[43mnum\u001B[49m\u001B[43m)\u001B[49m\n",
      "Cell \u001B[1;32mIn[1], line 5\u001B[0m, in \u001B[0;36mjogar_novamente\u001B[1;34m(numero)\u001B[0m\n\u001B[0;32m      3\u001B[0m \u001B[38;5;28;01mdef\u001B[39;00m\u001B[38;5;250m \u001B[39m\u001B[38;5;21mjogar_novamente\u001B[39m(numero):\n\u001B[0;32m      4\u001B[0m     \u001B[38;5;28mprint\u001B[39m(\u001B[38;5;124mf\u001B[39m\u001B[38;5;124m'\u001B[39m\u001B[38;5;124mO número era: \u001B[39m\u001B[38;5;132;01m{\u001B[39;00mnumero\u001B[38;5;132;01m}\u001B[39;00m\u001B[38;5;124m'\u001B[39m)\n\u001B[1;32m----> 5\u001B[0m     confirma \u001B[38;5;241m=\u001B[39m \u001B[38;5;28;43minput\u001B[39;49m\u001B[43m(\u001B[49m\u001B[38;5;124;43m'\u001B[39;49m\u001B[38;5;124;43mNovo Cálculo [S/N]: \u001B[39;49m\u001B[38;5;124;43m'\u001B[39;49m\u001B[43m)\u001B[49m\n\u001B[0;32m      6\u001B[0m     \u001B[38;5;28;01mif\u001B[39;00m confirma\u001B[38;5;241m.\u001B[39mlower() \u001B[38;5;241m==\u001B[39m \u001B[38;5;124m'\u001B[39m\u001B[38;5;124mn\u001B[39m\u001B[38;5;124m'\u001B[39m:\n\u001B[0;32m      7\u001B[0m         \u001B[38;5;28;01mreturn\u001B[39;00m \u001B[38;5;28;01mFalse\u001B[39;00m, numero, \u001B[38;5;241m0\u001B[39m\n",
      "File \u001B[1;32m~\\AppData\\Roaming\\Python\\Python312\\site-packages\\ipykernel\\kernelbase.py:1282\u001B[0m, in \u001B[0;36mKernel.raw_input\u001B[1;34m(self, prompt)\u001B[0m\n\u001B[0;32m   1280\u001B[0m     msg \u001B[38;5;241m=\u001B[39m \u001B[38;5;124m\"\u001B[39m\u001B[38;5;124mraw_input was called, but this frontend does not support input requests.\u001B[39m\u001B[38;5;124m\"\u001B[39m\n\u001B[0;32m   1281\u001B[0m     \u001B[38;5;28;01mraise\u001B[39;00m StdinNotImplementedError(msg)\n\u001B[1;32m-> 1282\u001B[0m \u001B[38;5;28;01mreturn\u001B[39;00m \u001B[38;5;28;43mself\u001B[39;49m\u001B[38;5;241;43m.\u001B[39;49m\u001B[43m_input_request\u001B[49m\u001B[43m(\u001B[49m\n\u001B[0;32m   1283\u001B[0m \u001B[43m    \u001B[49m\u001B[38;5;28;43mstr\u001B[39;49m\u001B[43m(\u001B[49m\u001B[43mprompt\u001B[49m\u001B[43m)\u001B[49m\u001B[43m,\u001B[49m\n\u001B[0;32m   1284\u001B[0m \u001B[43m    \u001B[49m\u001B[38;5;28;43mself\u001B[39;49m\u001B[38;5;241;43m.\u001B[39;49m\u001B[43m_parent_ident\u001B[49m\u001B[43m[\u001B[49m\u001B[38;5;124;43m\"\u001B[39;49m\u001B[38;5;124;43mshell\u001B[39;49m\u001B[38;5;124;43m\"\u001B[39;49m\u001B[43m]\u001B[49m\u001B[43m,\u001B[49m\n\u001B[0;32m   1285\u001B[0m \u001B[43m    \u001B[49m\u001B[38;5;28;43mself\u001B[39;49m\u001B[38;5;241;43m.\u001B[39;49m\u001B[43mget_parent\u001B[49m\u001B[43m(\u001B[49m\u001B[38;5;124;43m\"\u001B[39;49m\u001B[38;5;124;43mshell\u001B[39;49m\u001B[38;5;124;43m\"\u001B[39;49m\u001B[43m)\u001B[49m\u001B[43m,\u001B[49m\n\u001B[0;32m   1286\u001B[0m \u001B[43m    \u001B[49m\u001B[43mpassword\u001B[49m\u001B[38;5;241;43m=\u001B[39;49m\u001B[38;5;28;43;01mFalse\u001B[39;49;00m\u001B[43m,\u001B[49m\n\u001B[0;32m   1287\u001B[0m \u001B[43m\u001B[49m\u001B[43m)\u001B[49m\n",
      "File \u001B[1;32m~\\AppData\\Roaming\\Python\\Python312\\site-packages\\ipykernel\\kernelbase.py:1325\u001B[0m, in \u001B[0;36mKernel._input_request\u001B[1;34m(self, prompt, ident, parent, password)\u001B[0m\n\u001B[0;32m   1322\u001B[0m \u001B[38;5;28;01mexcept\u001B[39;00m \u001B[38;5;167;01mKeyboardInterrupt\u001B[39;00m:\n\u001B[0;32m   1323\u001B[0m     \u001B[38;5;66;03m# re-raise KeyboardInterrupt, to truncate traceback\u001B[39;00m\n\u001B[0;32m   1324\u001B[0m     msg \u001B[38;5;241m=\u001B[39m \u001B[38;5;124m\"\u001B[39m\u001B[38;5;124mInterrupted by user\u001B[39m\u001B[38;5;124m\"\u001B[39m\n\u001B[1;32m-> 1325\u001B[0m     \u001B[38;5;28;01mraise\u001B[39;00m \u001B[38;5;167;01mKeyboardInterrupt\u001B[39;00m(msg) \u001B[38;5;28;01mfrom\u001B[39;00m\u001B[38;5;250m \u001B[39m\u001B[38;5;28;01mNone\u001B[39;00m\n\u001B[0;32m   1326\u001B[0m \u001B[38;5;28;01mexcept\u001B[39;00m \u001B[38;5;167;01mException\u001B[39;00m:\n\u001B[0;32m   1327\u001B[0m     \u001B[38;5;28mself\u001B[39m\u001B[38;5;241m.\u001B[39mlog\u001B[38;5;241m.\u001B[39mwarning(\u001B[38;5;124m\"\u001B[39m\u001B[38;5;124mInvalid Message:\u001B[39m\u001B[38;5;124m\"\u001B[39m, exc_info\u001B[38;5;241m=\u001B[39m\u001B[38;5;28;01mTrue\u001B[39;00m)\n",
      "\u001B[1;31mKeyboardInterrupt\u001B[0m: Interrupted by user"
     ]
    }
   ],
   "execution_count": 1,
   "source": [
    "import random, os\n",
    "\n",
    "def jogar_novamente(numero):\n",
    "    print(f'O número era: {numero}')\n",
    "    confirma = input('Novo Cálculo [S/N]: ')\n",
    "    if confirma.lower() == 'n':\n",
    "        return False, numero, 0\n",
    "    else:\n",
    "        numero = random.randint(1, 50)\n",
    "        tentativa = 5\n",
    "        os.system('cls')\n",
    "        return True, numero, tentativa\n",
    "\n",
    "def main():\n",
    "    num = random.randint(1, 50)\n",
    "    tentativa = 5\n",
    "    jogar = True\n",
    "\n",
    "\n",
    "    while jogar:\n",
    "        os.system('cls')\n",
    "        if tentativa < 1:\n",
    "            print(\"Você perdeu.\")\n",
    "            jogar, num, tentativa = jogar_novamente(num)\n",
    "            continue\n",
    "        print('Adivinhe o número')\n",
    "        print('Tentativas:', tentativa)\n",
    "        palpite = int(input('Digite seu palpite: '))\n",
    "\n",
    "        if palpite != num:\n",
    "            input(f'\\nDigite um número {\"maior\" if palpite < num else \"menor\"} [PRESSIONE ENTER]')\n",
    "            tentativa -= 1\n",
    "        else:\n",
    "            os.system('cls')\n",
    "            print('Você ganhou!!!')\n",
    "            jogar, num, tentativa = jogar_novamente(num)\n",
    "\n",
    "main()"
   ]
  },
  {
   "metadata": {},
   "cell_type": "markdown",
   "source": "### EXERCICIO 5"
  },
  {
   "metadata": {},
   "cell_type": "code",
   "outputs": [],
   "execution_count": null,
   "source": [
    "import random, os\n",
    "\n",
    "opcoes = {1: \"pedra\", 2: \"papel\", 3: \"tesoura\"}\n",
    "score_humano = 0\n",
    "score_maquina = 0\n",
    "total_empates = 0\n",
    "resultado_final = \"\"\n",
    "\n",
    "def comparar_jogadas(jogada_humano, jogada_maquina, score_humano, score_maquina, total_empates):\n",
    "    if jogada_humano == jogada_maquina:\n",
    "        mensagem = \"Empate\"\n",
    "        total_empates += 1\n",
    "    elif jogada_maquina == 1:\n",
    "        if jogada_humano == 2:\n",
    "            mensagem = \"Você venceu!\"\n",
    "            score_humano += 1\n",
    "        else:\n",
    "            mensagem = \"A máquina venceu!\"\n",
    "            score_maquina += 1\n",
    "    elif jogada_maquina == 2:\n",
    "        if jogada_humano == 1:\n",
    "            mensagem = \"A máquina venceu!\"\n",
    "            score_maquina += 1\n",
    "        else:\n",
    "            mensagem = \"Você venceu!\"\n",
    "            score_humano += 1\n",
    "    elif jogada_maquina == 3:\n",
    "        if jogada_humano == 1:\n",
    "            mensagem = \"Você venceu!\"\n",
    "            score_humano += 1\n",
    "        else:\n",
    "            mensagem = \"A máquina venceu!\"\n",
    "            score_maquina += 1\n",
    "    return mensagem, score_humano, score_maquina, total_empates\n",
    "\n",
    "def obter_jogada_humano():\n",
    "    jogada = input(\"Digite o seu ataque: \")\n",
    "    while jogada != str(1) and jogada != str(2) and jogada != str(3):\n",
    "        jogada = input(\"\\nUtilize um dos valores válidos (1, 2 ou 3).\\nDigite novamente: \")\n",
    "    return int(jogada)\n",
    "\n",
    "def jogar(score_humano, score_maquina, total_empates, resultado_final):\n",
    "    for rodada in range(1, 11):\n",
    "        os.system('cls')\n",
    "        print(f\"===== JO KEN PO =====\\n[[ Rodada {rodada} de 10 ]]\\n\")\n",
    "        print(\"[1] Pedra\\n[2] Papel\\n[3] Tesoura\\n\")\n",
    "        jogada_humano = obter_jogada_humano()\n",
    "        jogada_maquina = random.randint(1, 3)\n",
    "        print(f'\\nVocê jogou {opcoes[jogada_humano]}\\nA máquina jogou {opcoes[jogada_maquina]}\\n')\n",
    "        resultado_final, score_humano, score_maquina, total_empates = comparar_jogadas(jogada_humano, jogada_maquina, score_humano, score_maquina, total_empates)\n",
    "        print(f'{resultado_final}\\nSeu score: {score_humano}\\nScore da máquina: {score_maquina}\\nEmpates: {total_empates}\\n')\n",
    "        input(f'[PRESSIONE ENTER PARA CONTINUAR]')\n",
    "    return score_humano, score_maquina, total_empates, resultado_final\n",
    "\n",
    "score_humano, score_maquina, total_empates, resultado_final = jogar(score_humano, score_maquina, total_empates, resultado_final)\n",
    "while True:\n",
    "    continuar = input(\"Quer continuar jogando? [S/N]: \")\n",
    "    if continuar.upper() == \"S\":\n",
    "        score_humano, score_maquina, total_empates, resultado_final = jogar(score_humano, score_maquina, total_empates, resultado_final)\n",
    "    else:\n",
    "        break"
   ]
  }
 ],
 "metadata": {
  "language_info": {
   "name": "python"
  },
  "kernelspec": {
   "name": "python3",
   "language": "python",
   "display_name": "Python 3 (ipykernel)"
  }
 },
 "nbformat": 4,
 "nbformat_minor": 2
}
